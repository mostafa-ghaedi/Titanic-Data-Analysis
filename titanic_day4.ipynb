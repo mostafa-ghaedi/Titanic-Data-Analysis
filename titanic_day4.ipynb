{
 "cells": [
  {
   "cell_type": "markdown",
   "id": "7b66b07b",
   "metadata": {},
   "source": []
  }
 ],
 "metadata": {
  "language_info": {
   "name": "python"
  }
 },
 "nbformat": 4,
 "nbformat_minor": 5
}
